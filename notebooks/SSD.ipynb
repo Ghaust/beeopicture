{
  "nbformat": 4,
  "nbformat_minor": 0,
  "metadata": {
    "colab": {
      "name": "SSD.ipynb",
      "provenance": [],
      "collapsed_sections": [],
      "include_colab_link": true
    },
    "kernelspec": {
      "name": "python3",
      "display_name": "Python 3"
    },
    "accelerator": "GPU"
  },
  "cells": [
    {
      "cell_type": "markdown",
      "metadata": {
        "id": "view-in-github",
        "colab_type": "text"
      },
      "source": [
        "<a href=\"https://colab.research.google.com/github/Ghaust/beeopicture/blob/main/SSD.ipynb\" target=\"_parent\"><img src=\"https://colab.research.google.com/assets/colab-badge.svg\" alt=\"Open In Colab\"/></a>"
      ]
    },
    {
      "cell_type": "markdown",
      "metadata": {
        "id": "QAL4g9iQm4Jg"
      },
      "source": [
        "# ***Récapitulatif***\r\n",
        "\r\n",
        "Ce notebook contient une implémentation de SSD (Single Shot Multibox Detector) avec PyTorch. Ce projet a réalisé dans le cadre du PFE de l'ESIEA par l'équipe Ruche Connectée 294. L'objectif du projet est de détecter le type de pollen présent sur une image de pollens récupérée en laboratoire.\r\n",
        "\r\n",
        "### **Dataset**\r\n",
        "\r\n",
        "Notre jeu de données a été généré par l'outil Recompositron développé par l'entreprise disponible [ici](https://github.com/AzeoGarage/ShareAI-Beeodiversity-SmartBeeHive). Le jeu de données contient 10000 images et 28 classes de pollens. Il a ensuite été formaté Pascal VOC.\r\n",
        "\r\n",
        "### **Modèle et Entrainement**\r\n",
        "\r\n",
        "Le document de recherche est disponible [ici](https://arxiv.org/abs/1512.02325).\r\n",
        "\r\n",
        "Nous avons utilisé une implémentation PyTorch de SSD avec le [framework](https://github.com/lufficc/SSD)\r\n",
        "de lufficc de détection d'objets.\r\n",
        "\r\n",
        "### **Inference**\r\n",
        "\r\n",
        "On peut tester l'inférence sur une ou plusieurs images en les uploadant sur Colab. Les images doivent être stockées dans le dossier demo ou alors il faut préciser le chemin dans la commande qui lance le script demo.py."
      ]
    },
    {
      "cell_type": "code",
      "metadata": {
        "id": "or6qH-oRW2Qy"
      },
      "source": [
        "# On télécharge la dataset\n",
        "!wget https://download1083.mediafire.com/z73nqduzyt0g/jdt3w4p9kkv5job/voc_pollen.zip\n",
        "\n",
        "!unzip voc_pollen.zip"
      ],
      "execution_count": null,
      "outputs": []
    },
    {
      "cell_type": "code",
      "metadata": {
        "id": "FsRISl4F5rhw"
      },
      "source": [
        "!mkdir VOC2007 datasets\n",
        "!mv JPEGImages/ VOC2007/\n",
        "!mv Annotations/ VOC2007/\n",
        "!mv ImageSets/ VOC2007/\n",
        "!mv class_list.txt VOC2007/\n",
        "!mv labelmap.prototxt VOC2007/\n",
        "!mv VOC2007/ datasets/\n",
        "!ls datasets/\n",
        "!ls datasets/VOC2007"
      ],
      "execution_count": null,
      "outputs": []
    },
    {
      "cell_type": "code",
      "metadata": {
        "id": "MoEKZNuJYDbV"
      },
      "source": [
        "# Installation des librairies\n",
        "!git clone https://github.com/Ghaust/SSD\n",
        "%cd SSD\n",
        "!pip install -r requirements.txt\n"
      ],
      "execution_count": null,
      "outputs": []
    },
    {
      "cell_type": "code",
      "metadata": {
        "id": "mpxP8f78dDDb"
      },
      "source": [
        "!python train.py --config-file configs/vgg_ssd300_voc0712.yaml"
      ],
      "execution_count": null,
      "outputs": []
    },
    {
      "cell_type": "code",
      "metadata": {
        "id": "OcTUV9jZlCbN"
      },
      "source": [
        "!python demo.py --config-file configs/vgg_ssd300_voc0712.yaml --images_dir demo --ckpt outputs/vgg_ssd300_voc0712/model_015000.pth"
      ],
      "execution_count": null,
      "outputs": []
    },
    {
      "cell_type": "code",
      "metadata": {
        "id": "BAgr8ZEq7O92"
      },
      "source": [
        "#!mv /content/datasets /content/SSD\n",
        "!cat /proc/cpuinfo"
      ],
      "execution_count": null,
      "outputs": []
    },
    {
      "cell_type": "code",
      "metadata": {
        "colab": {
          "base_uri": "https://localhost:8080/"
        },
        "id": "xV0GCojOitSa",
        "outputId": "57e69779-dca6-49a9-c764-f3147817413a"
      },
      "source": [
        "!find datasets/VOC2007/Annotations -empty -type f\n",
        "#!echo \"<?xml version=\"1.0\" encoding=\"utf-8\"?><annotation><filename>02456.jpg</filename><size><width>960</width><height>640</height><depth>1</depth></size><object><name>Turpinia_occidentalis</name><bndbox><xmin>685</xmin><ymin>125</ymin><xmax>765</xmax><ymax>206</ymax></bndbox></object><object><name>Adenia_perrieri</name><bndbox><xmin>284</xmin><ymin>570</ymin><xmax>354</xmax><ymax>636</ymax></bndbox></object><object><name>Acacia_pennata</name><bndbox><xmin>740</xmin><ymin>412</ymin><xmax>820</xmax><ymax>489</ymax></bndbox></object><object><name>Vernonia_mandrarensis</name><bndbox><xmin>136</xmin><ymin>420</ymin><xmax>236</xmax><ymax>512</ymax></bndbox></object><object><name>Mibora_minima</name><bndbox><xmin>650</xmin><ymin>542</ymin><xmax>700</xmax><ymax>592</ymax></bndbox></object><object><name>Woodwardia_radicans</name><bndbox><xmin>155</xmin><ymin>388</ymin><xmax>295</xmax><ymax>484</ymax></bndbox></object><object><name>Abatia_canescens</name><bndbox><xmin>652</xmin><ymin>236</ymin><xmax>692</xmax><ymax>282</ymax></bndbox></object><object><name>Ziziphus_jujuba</name><bndbox><xmin>23</xmin><ymin>536</ymin><xmax>83</xmax><ymax>593</ymax></bndbox></object><object><name>Vaccinium_secundiflorum</name><bndbox><xmin>298</xmin><ymin>226</ymin><xmax>388</xmax><ymax>320</ymax></bndbox></object><object><name>Weigela_florida</name><bndbox><xmin>172</xmin><ymin>352</ymin><xmax>292</xmax><ymax>466</ymax></bndbox></object><object><name>Plantago_lanceolata</name><bndbox><xmin>680</xmin><ymin>90</ymin><xmax>736</xmax><ymax>148</ymax></bndbox></object><object><name>Chilopsis_linearis</name><bndbox><xmin>889</xmin><ymin>497</ymin><xmax>959</xmax><ymax>557</ymax></bndbox></object><object><name>Turpinia_occidentalis</name><bndbox><xmin>708</xmin><ymin>110</ymin><xmax>788</xmax><ymax>188</ymax></bndbox></object><object><name>Acacia_pennata</name><bndbox><xmin>180</xmin><ymin>223</ymin><xmax>260</xmax><ymax>306</ymax></bndbox></object><object><name>Abelia_rupestris</name><bndbox><xmin>496</xmin><ymin>132</ymin><xmax>646</xmax><ymax>289</ymax></bndbox></object></annotation>\" >> datasets/VOC2007/Annotations/02456.xml\n",
        "!cat datasets/VOC2007/Annotations/02456.xml"
      ],
      "execution_count": null,
      "outputs": [
        {
          "output_type": "stream",
          "text": [
            "﻿<?xml version=\"1.0\" encoding=\"utf-8\"?><annotation><filename>02456.jpg</filename><size><width>960</width><height>640</height><depth>1</depth></size><object><name>Vernonia_mandrarensis</name><bndbox><xmin>449</xmin><ymin>367</ymin><xmax>549</xmax><ymax>475</ymax></bndbox></object><object><name>Euphorbia_orthoclada</name><bndbox><xmin>550</xmin><ymin>435</ymin><xmax>656</xmax><ymax>548</ymax></bndbox></object><object><name>Colignonia_rufopilosa</name><bndbox><xmin>300</xmin><ymin>389</ymin><xmax>350</xmax><ymax>438</ymax></bndbox></object><object><name>Weigela_florida</name><bndbox><xmin>181</xmin><ymin>60</ymin><xmax>301</xmax><ymax>188</ymax></bndbox></object><object><name>Vernonia_mandrarensis</name><bndbox><xmin>482</xmin><ymin>194</ymin><xmax>582</xmax><ymax>299</ymax></bndbox></object><object><name>Mibora_minima</name><bndbox><xmin>587</xmin><ymin>217</ymin><xmax>637</xmax><ymax>271</ymax></bndbox></object><object><name>Acacia_perryi</name><bndbox><xmin>337</xmin><ymin>45</ymin><xmax>417</xmax><ymax>127</ymax></bndbox></object><object><name>Abelia_grandiflora</name><bndbox><xmin>191</xmin><ymin>288</ymin><xmax>341</xmax><ymax>441</ymax></bndbox></object><object><name>Euphorbia_orthoclada</name><bndbox><xmin>248</xmin><ymin>85</ymin><xmax>354</xmax><ymax>188</ymax></bndbox></object><object><name>Abelia_rupestris</name><bndbox><xmin>18</xmin><ymin>89</ymin><xmax>168</xmax><ymax>244</ymax></bndbox></object><object><name>Woodwardia_radicans</name><bndbox><xmin>223</xmin><ymin>370</ymin><xmax>363</xmax><ymax>574</ymax></bndbox></object><object><name>Gratiola_officinalis</name><bndbox><xmin>488</xmin><ymin>210</ymin><xmax>532</xmax><ymax>248</ymax></bndbox></object><object><name>Ziziphus_jujuba</name><bndbox><xmin>860</xmin><ymin>535</ymin><xmax>920</xmax><ymax>597</ymax></bndbox></object><object><name>Abelia_grandiflora</name><bndbox><xmin>194</xmin><ymin>1</ymin><xmax>344</xmax><ymax>149</ymax></bndbox></object><object><name>Turpinia_occidentalis</name><bndbox><xmin>658</xmin><ymin>105</ymin><xmax>738</xmax><ymax>185</ymax></bndbox></object></annotation>"
          ],
          "name": "stdout"
        }
      ]
    },
    {
      "cell_type": "code",
      "metadata": {
        "id": "W691waQHd0ix"
      },
      "source": [
        "#!zip -r ssd_15000_itr.zip outputs\n",
        "!zip -r results.zip demo/result\n",
        "#!zip -r config.zip ssd/data/datasets/voc.py ssd/data/datasets/__init__.py ssd/data/datasets/evaluation/voc/\n",
        "#from google.colab import files\n",
        "#files.download(\"/content/SSD/ssd_7500_itr.zip\")\n",
        "#files.download(\"/content/SSD/config.zip\")"
      ],
      "execution_count": null,
      "outputs": []
    },
    {
      "cell_type": "code",
      "metadata": {
        "id": "uzLscqxw0wpV"
      },
      "source": [
        "rm demo/*.jpg"
      ],
      "execution_count": null,
      "outputs": []
    }
  ]
}